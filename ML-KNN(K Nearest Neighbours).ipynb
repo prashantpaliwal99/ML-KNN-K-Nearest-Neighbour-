{
 "cells": [
  {
   "cell_type": "code",
   "execution_count": 5,
   "metadata": {},
   "outputs": [],
   "source": [
    "import numpy as np\n",
    "from matplotlib import pyplot as plt\n",
    "%matplotlib inline"
   ]
  },
  {
   "cell_type": "code",
   "execution_count": 4,
   "metadata": {},
   "outputs": [
    {
     "name": "stdout",
     "output_type": "stream",
     "text": [
      "(500, 2) (500, 2)\n"
     ]
    }
   ],
   "source": [
    "\n",
    "#data set \n",
    "mean_01 = np.array([1, 0.5])\n",
    "cov_01 = np.array([[1, 0.1], [0.1, 1.2]])\n",
    "\n",
    "mean_02 = np.array([4, 5])\n",
    "cov_02 = np.array([[1, 0.1], [0.1, 1.2]])\n",
    "\n",
    "\n",
    "dist_01 = np.random.multivariate_normal(mean_01, cov_01, 500)\n",
    "dist_02 = np.random.multivariate_normal(mean_02, cov_02, 500)\n",
    "print (dist_01.shape, dist_02.shape)"
   ]
  },
  {
   "cell_type": "code",
   "execution_count": 6,
   "metadata": {},
   "outputs": [
    {
     "data": {
      "image/png": "[encoded data removed]",
      "text/plain": [
       "<Figure size 432x288 with 1 Axes>"
      ]
     },
     "metadata": {},
     "output_type": "display_data"
    }
   ],
   "source": [
    "#plotting of data\n",
    "plt.figure(0)\n",
    "plt.xlim(-5, 10)\n",
    "plt.ylim(-5, 10)\n",
    "\n",
    "plt.scatter(dist_01[:, 0], dist_01[:, 1])\n",
    "plt.scatter(dist_02[:, 0], dist_02[:, 1], color='red')\n",
    "plt.show()"
   ]
  },
  {
   "cell_type": "code",
   "execution_count": 8,
   "metadata": {},
   "outputs": [
    {
     "name": "stdout",
     "output_type": "stream",
     "text": [
      "(1000, 3)\n",
      "[2.49358691 2.69037876 0.5       ]\n"
     ]
    }
   ],
   "source": [
    "\n",
    "#total no rows for combining data\n",
    "r = dist_01.shape[0] + dist_02.shape[0]\n",
    "# 1 extra column for adding labels\n",
    "c = dist_01.shape[1] + 1\n",
    "# new blank array\n",
    "data = np.zeros((r, c))\n",
    "print (data.shape)\n",
    "\n",
    "#adding data\n",
    "data[:dist_01.shape[0], :2] = dist_01\n",
    "data[dist_01.shape[0]:, :2] = dist_02\n",
    "#adding labels\n",
    "data[dist_01.shape[0]:, -1] = 1.0\n",
    "\n",
    "print (data.mean(axis=0))"
   ]
  },
  {
   "cell_type": "code",
   "execution_count": 9,
   "metadata": {},
   "outputs": [
    {
     "name": "stdout",
     "output_type": "stream",
     "text": [
      "[[ 3.46863477  4.49259654  1.        ]\n",
      " [-0.46536752  0.0424877   0.        ]\n",
      " [ 3.84697728  3.32396225  1.        ]\n",
      " [-0.64233881 -0.20201859  0.        ]\n",
      " [ 1.65428983 -2.20838104  0.        ]\n",
      " [ 2.43064205 -1.88863648  0.        ]\n",
      " [ 2.44595134  2.5235789   0.        ]\n",
      " [ 4.67691223  5.92253794  1.        ]\n",
      " [ 2.25752778  6.73151337  1.        ]\n",
      " [ 2.11111579 -0.77192405  0.        ]]\n"
     ]
    }
   ],
   "source": [
    "#shuffling dataset values\n",
    "np.random.shuffle(data)\n",
    "print (data[:10])"
   ]
  },
  {
   "cell_type": "code",
   "execution_count": 13,
   "metadata": {},
   "outputs": [],
   "source": [
    "def distance(x1, x2):\n",
    "    # euclidean distance\n",
    "    d = np.sqrt(((x1-x2)**2).sum())\n",
    "    return d\n",
    "\n",
    "def knn(X_train, y_train, xt, k=7):\n",
    "    vals = []\n",
    "    for ix in range(X_train.shape[0]):\n",
    "        d = distance(X_train[ix], xt)\n",
    "        vals.append([d, y_train[ix]])\n",
    "    sorted_labels = sorted(vals, key=lambda z: z[0])\n",
    "    # storing first k nearest values \n",
    "    neighbours = np.asarray(sorted_labels)[:k, -1]\n",
    "    # counting frequency of unique labels\n",
    "    freq = np.unique(neighbours, return_counts=True)\n",
    "    \n",
    "    return freq[0][freq[1].argmax()]"
   ]
  },
  {
   "cell_type": "code",
   "execution_count": 12,
   "metadata": {},
   "outputs": [
    {
     "name": "stdout",
     "output_type": "stream",
     "text": [
      "0.0\n"
     ]
    }
   ],
   "source": [
    "\n",
    "test_point = np.array([8, -4])\n",
    "\n",
    "print (knn(data[:, :2], data[:, -1], test_point))"
   ]
  },
  {
   "cell_type": "code",
   "execution_count": 17,
   "metadata": {},
   "outputs": [
    {
     "name": "stdout",
     "output_type": "stream",
     "text": [
      "(250, 2) (250,)\n",
      "(750, 2) (750,)\n"
     ]
    }
   ],
   "source": [
    "np.random.shuffle(data)\n",
    "split = int(0.25 * data.shape[0])\n",
    "# splitting of data into training and testing part\n",
    "train_data_X = data[:split, :2]\n",
    "train_data_y = data[:split, -1]\n",
    "test_data_X = data[split:, :2]\n",
    "test_data_y = data[split:, -1]\n",
    "\n",
    "print (train_data_X.shape, train_data_y.shape)\n",
    "print (test_data_X.shape, test_data_y.shape)"
   ]
  },
  {
   "cell_type": "code",
   "execution_count": 18,
   "metadata": {},
   "outputs": [
    {
     "name": "stdout",
     "output_type": "stream",
     "text": [
      "99.6\n"
     ]
    }
   ],
   "source": [
    "def get_acc(kx):\n",
    "    #empty list for storing predictions\n",
    "    preds = []\n",
    "    # predict value of every test point\n",
    "    for ix in range(test_data_X.shape[0]):\n",
    "        preds.append(knn(train_data_X, train_data_y, test_data_X[ix], k=kx))\n",
    "\n",
    "        \n",
    "    preds = np.asarray(preds)\n",
    "    #comparing predicted value with actual value\n",
    "    return 100*float((test_data_y == preds).sum())/preds.shape[0]\n",
    "\n",
    "print (get_acc(7))"
   ]
  },
  {
   "cell_type": "code",
   "execution_count": 19,
   "metadata": {},
   "outputs": [
    {
     "name": "stdout",
     "output_type": "stream",
     "text": [
      "k: 2 | Acc: 99.46666666666667\n",
      "k: 3 | Acc: 99.46666666666667\n",
      "k: 4 | Acc: 99.33333333333333\n",
      "k: 5 | Acc: 99.46666666666667\n",
      "k: 6 | Acc: 99.46666666666667\n",
      "k: 7 | Acc: 99.6\n",
      "k: 8 | Acc: 99.46666666666667\n",
      "k: 9 | Acc: 99.46666666666667\n",
      "k: 10 | Acc: 99.33333333333333\n",
      "k: 11 | Acc: 99.33333333333333\n",
      "k: 12 | Acc: 99.33333333333333\n",
      "k: 13 | Acc: 99.33333333333333\n",
      "k: 14 | Acc: 99.33333333333333\n",
      "k: 15 | Acc: 99.33333333333333\n",
      "k: 16 | Acc: 99.33333333333333\n",
      "k: 17 | Acc: 99.46666666666667\n",
      "k: 18 | Acc: 99.46666666666667\n",
      "k: 19 | Acc: 99.46666666666667\n"
     ]
    }
   ],
   "source": [
    "# accuracy for different k values from 2 to 19\n",
    "for ix in range(2, 20):\n",
    "    print (\"k:\", ix, \"| Acc:\", get_acc(ix))"
   ]
  },
  {
   "cell_type": "code",
   "execution_count": null,
   "metadata": {},
   "outputs": [],
   "source": []
  }
 ],
 "metadata": {
  "kernelspec": {
   "display_name": "Python 3",
   "language": "python",
   "name": "python3"
  },
  "language_info": {
   "codemirror_mode": {
    "name": "ipython",
    "version": 3
   },
   "file_extension": ".py",
   "mimetype": "text/x-python",
   "name": "python",
   "nbconvert_exporter": "python",
   "pygments_lexer": "ipython3",
   "version": "3.6.5"
  }
 },
 "nbformat": 4,
 "nbformat_minor": 2
}
